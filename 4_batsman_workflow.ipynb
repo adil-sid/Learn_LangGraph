{
 "cells": [
  {
   "cell_type": "code",
   "execution_count": 76,
   "id": "16c006bb",
   "metadata": {},
   "outputs": [],
   "source": [
    "from langgraph.graph import StateGraph, START, END\n",
    "from typing import TypedDict"
   ]
  },
  {
   "cell_type": "code",
   "execution_count": 77,
   "id": "88580d55",
   "metadata": {},
   "outputs": [],
   "source": [
    "class BatsmanState(TypedDict):\n",
    "\n",
    "    runs: int\n",
    "    balls: int\n",
    "    fours: int\n",
    "    sixes: int\n",
    "\n",
    "    sr: float\n",
    "    bpb: float\n",
    "    bp: float\n",
    "    summary: str"
   ]
  },
  {
   "cell_type": "code",
   "execution_count": 78,
   "id": "8ee82cba",
   "metadata": {},
   "outputs": [],
   "source": [
    "def calc_sr(state: BatsmanState):\n",
    "\n",
    "    runs = state['runs']\n",
    "    balls = state['balls']\n",
    "\n",
    "    sr = (runs/balls)*100\n",
    "\n",
    "    return {'sr': sr}"
   ]
  },
  {
   "cell_type": "code",
   "execution_count": 79,
   "id": "5bb7fff3",
   "metadata": {},
   "outputs": [],
   "source": [
    "def calc_bpb(state: BatsmanState):\n",
    "\n",
    "    balls = state['balls']\n",
    "    fours = state['fours']\n",
    "    sixes = state['sixes']\n",
    "\n",
    "    bpb = balls/(fours + sixes)\n",
    "\n",
    "    return {'bpb': bpb}"
   ]
  },
  {
   "cell_type": "code",
   "execution_count": 80,
   "id": "db95f5e2",
   "metadata": {},
   "outputs": [],
   "source": [
    "def calc_bp(state: BatsmanState):\n",
    "\n",
    "    runs = state['runs']\n",
    "    fours = state['fours']\n",
    "    sixes = state['sixes']\n",
    "\n",
    "    scoreByBoundaries = 4*fours + 6*sixes\n",
    "\n",
    "    bp = (scoreByBoundaries/runs)*100\n",
    "\n",
    "    return {'bp': bp}"
   ]
  },
  {
   "cell_type": "code",
   "execution_count": 81,
   "id": "e64647e1",
   "metadata": {},
   "outputs": [],
   "source": [
    "def create_summary(state: BatsmanState):\n",
    "\n",
    "    sr = state['sr']\n",
    "    bpb = state['bpb']\n",
    "    bp = state['bp']\n",
    "\n",
    "    summary = f\"\"\"The Batsman has a Strike Rate: {sr},\n",
    "    Boundaries Per Ball: {bpb}\n",
    "    BoundaryPercentage: {bp}.\"\"\"\n",
    "\n",
    "    return {'summary': summary}"
   ]
  },
  {
   "cell_type": "code",
   "execution_count": 82,
   "id": "da05deff",
   "metadata": {},
   "outputs": [],
   "source": [
    "graph = StateGraph(BatsmanState)\n",
    "\n",
    "#nodes\n",
    "graph.add_node('StrikeRate', calc_sr)\n",
    "graph.add_node('BallsPerBoundary', calc_bpb)\n",
    "graph.add_node('Boundary_Percent', calc_bp)\n",
    "graph.add_node('Summary', create_summary)\n",
    "\n",
    "#edges\n",
    "graph.add_edge(START, 'StrikeRate')\n",
    "graph.add_edge('StrikeRate', 'Summary')\n",
    "\n",
    "graph.add_edge(START, 'BallsPerBoundary')\n",
    "graph.add_edge('BallsPerBoundary', 'Summary')\n",
    "\n",
    "graph.add_edge(START, 'Boundary_Percent')\n",
    "graph.add_edge('Boundary_Percent', 'Summary')\n",
    "\n",
    "graph.add_edge('Summary', END)\n",
    "\n",
    "workflow = graph.compile()"
   ]
  },
  {
   "cell_type": "code",
   "execution_count": 83,
   "id": "528124e8",
   "metadata": {},
   "outputs": [
    {
     "data": {
      "text/plain": [
       "{'runs': 100,\n",
       " 'balls': 60,\n",
       " 'fours': 10,\n",
       " 'sixes': 6,\n",
       " 'sr': 166.66666666666669,\n",
       " 'bpb': 3.75,\n",
       " 'bp': 76.0,\n",
       " 'summary': 'The Batsman has a Strike Rate: 166.66666666666669,\\n    Boundaries Per Ball: 3.75\\n    BoundaryPercentage: 76.0.'}"
      ]
     },
     "execution_count": 83,
     "metadata": {},
     "output_type": "execute_result"
    }
   ],
   "source": [
    "initial_state = {\n",
    "    'runs': 100, \n",
    "    'balls': 60, \n",
    "    'fours': 10, \n",
    "    'sixes': 6}\n",
    "\n",
    "workflow.invoke(initial_state)\n"
   ]
  }
 ],
 "metadata": {
  "kernelspec": {
   "display_name": "lgenv",
   "language": "python",
   "name": "python3"
  },
  "language_info": {
   "codemirror_mode": {
    "name": "ipython",
    "version": 3
   },
   "file_extension": ".py",
   "mimetype": "text/x-python",
   "name": "python",
   "nbconvert_exporter": "python",
   "pygments_lexer": "ipython3",
   "version": "3.10.11"
  }
 },
 "nbformat": 4,
 "nbformat_minor": 5
}
