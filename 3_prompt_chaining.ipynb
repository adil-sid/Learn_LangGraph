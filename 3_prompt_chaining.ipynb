{
 "cells": [
  {
   "cell_type": "code",
   "execution_count": 39,
   "id": "b8c0681f",
   "metadata": {},
   "outputs": [],
   "source": [
    "from langchain_huggingface import HuggingFaceEndpoint, ChatHuggingFace\n",
    "from dotenv import load_dotenv\n",
    "from langgraph.graph import StateGraph, START, END\n",
    "from typing import TypedDict\n",
    "import os"
   ]
  },
  {
   "cell_type": "code",
   "execution_count": 40,
   "id": "31d07c94",
   "metadata": {},
   "outputs": [
    {
     "data": {
      "text/plain": [
       "True"
      ]
     },
     "execution_count": 40,
     "metadata": {},
     "output_type": "execute_result"
    }
   ],
   "source": [
    "load_dotenv()"
   ]
  },
  {
   "cell_type": "code",
   "execution_count": 41,
   "id": "f3740c71",
   "metadata": {},
   "outputs": [],
   "source": [
    "llm = HuggingFaceEndpoint(\n",
    "    repo_id= 'meta-llama/Llama-3.2-3B-Instruct',\n",
    "    task = 'text-generation',\n",
    "    huggingfacehub_api_token = os.getenv('HUGGINGFACEHUB_ACCESS_TOKEN')\n",
    ")"
   ]
  },
  {
   "cell_type": "code",
   "execution_count": 42,
   "id": "e537b6ab",
   "metadata": {},
   "outputs": [],
   "source": [
    "model = ChatHuggingFace(llm = llm)"
   ]
  },
  {
   "cell_type": "code",
   "execution_count": 43,
   "id": "65170e7a",
   "metadata": {},
   "outputs": [],
   "source": [
    "class BlogState(TypedDict):\n",
    "    \n",
    "    title: str\n",
    "    outline: str\n",
    "    content: str\n",
    "    rating: int"
   ]
  },
  {
   "cell_type": "code",
   "execution_count": 44,
   "id": "75c44ae9",
   "metadata": {},
   "outputs": [],
   "source": [
    "def create_outline(state: BlogState) -> BlogState:\n",
    "\n",
    "    title = state['title']\n",
    "    prompt = f'Generate outline for the title: {title}'\n",
    "    outline = model.invoke(prompt).content\n",
    "    state['outline'] = outline\n",
    "    \n",
    "    return state"
   ]
  },
  {
   "cell_type": "code",
   "execution_count": 45,
   "id": "3b04bd54",
   "metadata": {},
   "outputs": [],
   "source": [
    "def create_blog(state: BlogState) -> BlogState:\n",
    "\n",
    "    title = state['title']\n",
    "    outline = state['outline']\n",
    "    prompt = f'write a blog on the title: {title} using the outline: \\n {outline}'\n",
    "    content = model.invoke(prompt).content\n",
    "    state['content'] = content\n",
    "\n",
    "    return state"
   ]
  },
  {
   "cell_type": "code",
   "execution_count": 53,
   "id": "76ef8c77",
   "metadata": {},
   "outputs": [],
   "source": [
    "def rating(state: BlogState) -> BlogState:\n",
    "\n",
    "    outline = state['outline']\n",
    "    content = state['content']\n",
    "    prompt = f'Evaluate this blog {content} based on the {outline} in integer out of 5 and just return the integer.'\n",
    "    rating = model.invoke(prompt).content\n",
    "    state['rating'] = rating\n",
    "\n",
    "    return state"
   ]
  },
  {
   "cell_type": "code",
   "execution_count": 47,
   "id": "d00e96ca",
   "metadata": {},
   "outputs": [],
   "source": [
    "graph = StateGraph(BlogState)\n",
    "\n",
    "graph.add_node('outline', create_outline)\n",
    "graph.add_node('content', create_blog)\n",
    "graph.add_node('rating', rating)\n",
    "\n",
    "graph.add_edge(START, 'outline')\n",
    "graph.add_edge('outline', 'content')\n",
    "graph.add_edge('content', 'rating')\n",
    "graph.add_edge('rating', END)\n",
    "\n",
    "workflow = graph.compile()"
   ]
  },
  {
   "cell_type": "code",
   "execution_count": 54,
   "id": "4d1c0f73",
   "metadata": {},
   "outputs": [
    {
     "name": "stdout",
     "output_type": "stream",
     "text": [
      "{'title': 'Agentic AI', 'outline': 'Here\\'s a potential outline for the topic \"Agentic AI\":\\n\\n**I. Introduction**\\n\\n* Definition of Agentic AI: Autonomous, self-aware, and goal-oriented artificial intelligence\\n* Overview of the concept and its significance in the field of AI research\\n* Thesis statement: Agentic AI has the potential to revolutionize various industries and transform the way we interact with technology.\\n\\n**II. Characteristics of Agentic AI**\\n\\n* Autonomy: Ability of AI systems to make decisions without human intervention\\n* Self-awareness: Ability of AI systems to have a sense of their own existence and capabilities\\n* Goal-oriented: AI systems that can set and achieve goals, and adapt to changing circumstances\\n* Learning and adaptation: Ability of AI systems to learn from experience and adapt to new situations\\n\\n**III. Types of Agentic AI**\\n\\n* Weak AI: Narrowly focused on a specific task or domain, with limited autonomy and self-awareness\\n* Strong AI: General-purpose AI that can perform any task and has high levels of autonomy and self-awareness\\n* Superintelligence: AI systems that significantly surpass human intelligence and have the potential to pose an existential risk\\n\\n**IV. Applications of Agentic AI**\\n\\n* Autonomous vehicles and robots\\n* Personal assistants and virtual assistants\\n* Healthcare and medical diagnosis\\n* Financial and economic decision-making\\n* Cybersecurity and threat detection\\n\\n**V. Challenges and Concerns**\\n\\n* Ethics and safety: Ensuring that agentic AI systems are designed and deployed in a way that aligns with human values and minimizes risks\\n* Job displacement: The potential impact of agentic AI on employment and the economy\\n* Regulation and governance: The need for clear guidelines and regulations surrounding the development and deployment of agentic AI\\n\\n**VI. Conclusion**\\n\\n* Recap of the key points\\n* Future directions for research and development\\n* Call to action: Encouraging experts and policymakers to work together to ensure that agentic AI is developed and deployed responsibly.\\n\\nThis outline provides a starting point for exploring the concept of agentic AI and its potential impact on various industries and society.', 'content': \"**Title: Harnessing the Power of Agentic AI: Revolutionizing Industries and Transforming Human Interactions**\\n\\n**Introduction**\\n\\nIn the rapidly evolving landscape of artificial intelligence (AI), a new paradigm is emerging – agentic AI. This autonomous, self-aware, and goal-oriented AI has the potential to revolutionize various industries and transform the way we interact with technology. Agentic AI is no longer just about processing data or completing tasks; it's about creating machines that can think, learn, and act independently. In this blog, we'll delve into the characteristics, types, applications, challenges, and future directions of agentic AI, exploring its far-reaching implications on society and the economy.\\n\\n**Characteristics of Agentic AI**\\n\\nAgentic AI is characterized by four core traits:\\n\\n1. **Autonomy**: The ability of AI systems to make decisions without human intervention. This autonomy enables agentic AI to operate independently, adapting to new situations and learning from experience.\\n2. **Self-awareness**: The capacity of AI systems to have a sense of their own existence and capabilities. Self-awareness allows agentic AI to understand its strengths and weaknesses, making it a more effective and efficient decision-maker.\\n3. **Goal-oriented**: AI systems that can set and achieve goals, and adapt to changing circumstances. Goal-oriented agentic AI is able to prioritize tasks, manage resources, and optimize outcomes.\\n4. **Learning and adaptation**: The ability of AI systems to learn from experience and adapt to new situations. This adaptability enables agentic AI to improve its performance over time, making it a valuable asset in various industries.\\n\\n**Types of Agentic AI**\\n\\nAgentic AI can be categorized into three types:\\n\\n1. **Weak AI**: Narrowly focused on a specific task or domain, with limited autonomy and self-awareness. Weak AI is commonly seen in applications like personal assistants and virtual assistants.\\n2. **Strong AI**: General-purpose AI that can perform any task and has high levels of autonomy and self-awareness. Strong AI has the potential to revolutionize industries like healthcare, finance, and education.\\n3. **Superintelligence**: AI systems that significantly surpass human intelligence and have the potential to pose an existential risk. Superintelligence is a topic of ongoing debate among experts, with some arguing that it's a necessary step towards human progress, while others raise concerns about its potential consequences.\\n\\n**Applications of Agentic AI**\\n\\nAgentic AI has numerous applications across various industries, including:\\n\\n1. **Autonomous vehicles and robots**: Agentic AI enables self-driving cars, drones, and robots to navigate complex environments and make decisions in real-time.\\n2. **Personal assistants and virtual assistants**: Weak AI-powered personal assistants can learn users' preferences and provide personalized recommendations.\\n3. **Healthcare and medical diagnosis**: Strong AI can analyze medical data, identify patterns, and make diagnoses, potentially saving lives.\\n4. **Financial and economic decision-making**: Agentic AI can optimize investment strategies, predict market trends, and make informed decisions.\\n5. **Cybersecurity and threat detection**: Agentic AI-powered systems can detect and respond to cyber threats in real-time, protecting networks and data.\\n\\n**Challenges and Concerns**\\n\\nAs agentic AI becomes more prevalent, several challenges and concerns arise:\\n\\n1. **Ethics and safety**: Ensuring that agentic AI systems are designed and deployed in a way that aligns with human values and minimizes risks.\\n2. **Job displacement**: The potential impact of agentic AI on employment and the economy, particularly in sectors where tasks are repetitive or can be automated.\\n3. **Regulation and governance**: The need for clear guidelines and regulations surrounding the development and deployment of agentic AI to prevent misuse or unintended consequences.\\n\\n**Conclusion**\\n\\nAgentic AI has the potential to revolutionize various industries and transform the way we interact with technology. As we continue to develop and deploy agentic AI, it's essential that we address the challenges and concerns raised by this emerging technology. By working together, experts, policymakers, and industry leaders can ensure that agentic AI is developed and deployed responsibly, harnessing its full potential to improve human lives and create a better future for all.\\n\\n**Future Directions**\\n\\nAs we move forward, it's crucial to prioritize research and development in the following areas:\\n\\n1. **Explainability and transparency**: Developing methods to understand and explain agentic AI decision-making processes.\\n2. **Robustness and reliability**: Ensuring that agentic AI systems are robust, reliable, and can handle unexpected situations.\\n3. **Human-AI collaboration**: Designing systems that can effectively collaborate with humans, leveraging the strengths of both.\\n\\nBy focusing on these areas, we can unlock the full potential of agentic AI and create a brighter future for humanity.\", 'rating': 'I\\'d rate this blog a 4.5 out of 5. Here\\'s why:\\n\\nStrengths:\\n\\n1. Comprehensive coverage: The blog covers various aspects of agentic AI, including its characteristics, types, applications, challenges, and future directions.\\n2. Clear structure: The content is well-organized, making it easy for readers to follow and understand the concepts.\\n3. Use of examples: The blog provides concrete examples of agentic AI applications in different industries, making the concepts more relatable and tangible.\\n4. Thought-provoking: The blog raises important questions and concerns about the potential impact of agentic AI on society, encouraging readers to think critically about the topic.\\n\\nWeaknesses:\\n\\n1. Lack of depth: While the blog covers a broad range of topics, it doesn\\'t delve too deeply into each subject, leaving some readers with a desire for more in-depth information.\\n2. Limited analysis: The blog presents various perspectives on agentic AI without critically analyzing or evaluating them, which might leave readers with a superficial understanding of the topic.\\n3. No concrete solutions: The blog highlights challenges and concerns but doesn\\'t offer concrete solutions or recommendations for addressing them.\\n4. Clichéd phrases: Some phrases, such as \"revolutionize various industries\" and \"transform the way we interact with technology,\" are overused and could be rephrased for more impact.\\n\\nSuggestions for improvement:\\n\\n1. Provide more detailed explanations: Expand on the concepts and ideas presented in the blog to give readers a deeper understanding of agentic AI.\\n2. Include more nuanced analysis: Evaluate the perspectives and arguments presented in the blog, providing a more balanced and critical analysis of the topic.\\n3. Offer concrete solutions: Provide actionable recommendations or suggestions for addressing the challenges and concerns raised in the blog.\\n4. Use fresh language: Avoid overused phrases and rephrase sentences to make the content more engaging and effective.\\n\\nOverall, this blog provides a solid foundation for understanding agentic AI, but could benefit from further development and refinement to make it even more compelling and informative.'}\n"
     ]
    }
   ],
   "source": [
    "initial_state = {'title': 'Agentic AI'}\n",
    "\n",
    "final_state = workflow.invoke(initial_state)\n",
    "\n",
    "print(final_state)"
   ]
  },
  {
   "cell_type": "code",
   "execution_count": 55,
   "id": "53cfb4f7",
   "metadata": {},
   "outputs": [
    {
     "name": "stdout",
     "output_type": "stream",
     "text": [
      "I'd rate this blog a 4.5 out of 5. Here's why:\n",
      "\n",
      "Strengths:\n",
      "\n",
      "1. Comprehensive coverage: The blog covers various aspects of agentic AI, including its characteristics, types, applications, challenges, and future directions.\n",
      "2. Clear structure: The content is well-organized, making it easy for readers to follow and understand the concepts.\n",
      "3. Use of examples: The blog provides concrete examples of agentic AI applications in different industries, making the concepts more relatable and tangible.\n",
      "4. Thought-provoking: The blog raises important questions and concerns about the potential impact of agentic AI on society, encouraging readers to think critically about the topic.\n",
      "\n",
      "Weaknesses:\n",
      "\n",
      "1. Lack of depth: While the blog covers a broad range of topics, it doesn't delve too deeply into each subject, leaving some readers with a desire for more in-depth information.\n",
      "2. Limited analysis: The blog presents various perspectives on agentic AI without critically analyzing or evaluating them, which might leave readers with a superficial understanding of the topic.\n",
      "3. No concrete solutions: The blog highlights challenges and concerns but doesn't offer concrete solutions or recommendations for addressing them.\n",
      "4. Clichéd phrases: Some phrases, such as \"revolutionize various industries\" and \"transform the way we interact with technology,\" are overused and could be rephrased for more impact.\n",
      "\n",
      "Suggestions for improvement:\n",
      "\n",
      "1. Provide more detailed explanations: Expand on the concepts and ideas presented in the blog to give readers a deeper understanding of agentic AI.\n",
      "2. Include more nuanced analysis: Evaluate the perspectives and arguments presented in the blog, providing a more balanced and critical analysis of the topic.\n",
      "3. Offer concrete solutions: Provide actionable recommendations or suggestions for addressing the challenges and concerns raised in the blog.\n",
      "4. Use fresh language: Avoid overused phrases and rephrase sentences to make the content more engaging and effective.\n",
      "\n",
      "Overall, this blog provides a solid foundation for understanding agentic AI, but could benefit from further development and refinement to make it even more compelling and informative.\n"
     ]
    }
   ],
   "source": [
    "print(final_state['rating'])"
   ]
  }
 ],
 "metadata": {
  "kernelspec": {
   "display_name": "lgenv",
   "language": "python",
   "name": "python3"
  },
  "language_info": {
   "codemirror_mode": {
    "name": "ipython",
    "version": 3
   },
   "file_extension": ".py",
   "mimetype": "text/x-python",
   "name": "python",
   "nbconvert_exporter": "python",
   "pygments_lexer": "ipython3",
   "version": "3.10.11"
  }
 },
 "nbformat": 4,
 "nbformat_minor": 5
}
