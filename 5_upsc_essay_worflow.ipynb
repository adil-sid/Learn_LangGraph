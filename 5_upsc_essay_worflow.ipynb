{
 "cells": [
  {
   "cell_type": "code",
   "execution_count": 3,
   "id": "fb68fe28",
   "metadata": {},
   "outputs": [],
   "source": [
    "from langgraph.graph import StateGraph, START, END\n",
    "# from langchain_openai import ChatOpenAI\n",
    "from langchain_google_genai import ChatGoogleGenerativeAI\n",
    "from dotenv import load_dotenv\n",
    "from pydantic import BaseModel, Field\n",
    "from typing import TypedDict, Annotated\n",
    "import os\n",
    "import operator"
   ]
  },
  {
   "cell_type": "code",
   "execution_count": 4,
   "id": "fde883ba",
   "metadata": {},
   "outputs": [],
   "source": [
    "load_dotenv()\n",
    "\n",
    "model = ChatGoogleGenerativeAI(model = 'gemini-2.0-flash')"
   ]
  },
  {
   "cell_type": "code",
   "execution_count": 5,
   "id": "a7fc6982",
   "metadata": {},
   "outputs": [],
   "source": [
    "class EvaluationSchema(BaseModel):\n",
    "\n",
    "    feedback: str = Field(description = 'Detailed feedback for the essay')\n",
    "    score: int = Field(description = 'Score out of 10', ge=0, le=10)"
   ]
  },
  {
   "cell_type": "code",
   "execution_count": 6,
   "id": "4b280c4c",
   "metadata": {},
   "outputs": [],
   "source": [
    "structured_model = model.with_structured_output(EvaluationSchema)"
   ]
  },
  {
   "cell_type": "code",
   "execution_count": 7,
   "id": "a1eb087d",
   "metadata": {},
   "outputs": [],
   "source": [
    "essay = \"\"\"\n",
    "    Artificial Intelligence in India: A Transformative Force\n",
    "Introduction\n",
    "Artificial Intelligence (AI) is no longer a futuristic concept—it's a present-day reality reshaping industries, governance, and daily life. In India, a country of over 1.4 billion people with diverse socio-economic challenges and immense digital potential, AI is emerging as a transformative force across sectors.\n",
    "Growth and Adoption\n",
    "India has witnessed a rapid surge in AI adoption, driven by both government initiatives and private sector innovation. From smart cities to digital agriculture, AI is being integrated into national development strategies. The National Strategy for Artificial Intelligence, launched by NITI Aayog, positions India as a hub for “AI for All,” emphasizing inclusive growth.\n",
    "Key sectors embracing AI include:\n",
    "- Healthcare: AI-powered diagnostics, predictive analytics, and telemedicine are improving access and outcomes, especially in rural areas.\n",
    "- Agriculture: AI models help farmers with crop prediction, pest control, and irrigation management, enhancing productivity.\n",
    "- Education: Personalized learning platforms and AI tutors are bridging gaps in access and quality.\n",
    "- Finance: Fraud detection, credit scoring, and robo-advisors are revolutionizing banking and fintech.\n",
    "- Governance: AI is being used for traffic management, surveillance, and citizen service delivery.\n",
    "Startups and Innovation\n",
    "India's startup ecosystem is thriving with over 1,500 AI startups as of 2025. Cities like Bengaluru, Hyderabad, and Pune are becoming AI innovation hubs. Companies are developing solutions tailored to Indian contexts—such as multilingual NLP models, low-resource machine learning, and affordable AI hardware.\n",
    "Challenges\n",
    "Despite the momentum, India faces several hurdles:\n",
    "- Data Quality and Access: Many AI models require large, clean datasets, which are often unavailable or fragmented in India.\n",
    "- Skilled Workforce: There's a growing demand for AI talent, but a shortage of skilled professionals in deep learning, data science, and AI ethics.\n",
    "- Infrastructure Gaps: Limited access to high-performance computing and cloud infrastructure in Tier 2 and Tier 3 cities slows down innovation.\n",
    "- Ethical and Regulatory Concerns: Issues around bias, privacy, and surveillance require robust frameworks and public discourse.\n",
    "Government Initiatives\n",
    "The Indian government is actively promoting AI through:\n",
    "- IndiaAI Mission: A national program to support AI research, startups, and skilling.\n",
    "- Digital India: Integrating AI into e-governance and public service delivery.\n",
    "- AI Centers of Excellence: Established in collaboration with academia and industry to foster cutting-edge research.\n",
    "Future Outlook\n",
    "India's AI journey is poised for exponential growth. With its vast population, rich linguistic diversity, and unique challenges, India offers fertile ground for developing inclusive and ethical AI solutions. If harnessed responsibly, AI can be a powerful tool for social equity, economic growth, and global leadership.\n",
    "Conclusion\n",
    "Artificial Intelligence in India is not just about technology—it's about transformation. As the country balances innovation with inclusion, the future of AI in India will be defined by how well it serves its people, empowers its youth, and solves its most pressing problems.\n",
    "\n",
    "\"\"\""
   ]
  },
  {
   "cell_type": "code",
   "execution_count": 8,
   "id": "f1c5be96",
   "metadata": {},
   "outputs": [],
   "source": [
    "prompt = f\"Evaluate the language quality of the following essay and provide a feedback and assign a score out of 10 \\n {essay}\"\n",
    "output = structured_model.invoke(prompt)"
   ]
  },
  {
   "cell_type": "code",
   "execution_count": 9,
   "id": "5f2cfeae",
   "metadata": {},
   "outputs": [
    {
     "data": {
      "text/plain": [
       "7"
      ]
     },
     "execution_count": 9,
     "metadata": {},
     "output_type": "execute_result"
    }
   ],
   "source": [
    "output.score"
   ]
  },
  {
   "cell_type": "code",
   "execution_count": 10,
   "id": "b5e3bd8a",
   "metadata": {},
   "outputs": [
    {
     "data": {
      "text/plain": [
       "'The essay provides a good overview of AI in India, covering growth, key sectors, challenges, and government initiatives. The language is clear and accessible, suitable for a broad audience. However, the writing could be more engaging with stronger transitions between paragraphs and more specific examples to illustrate each point. The conclusion summarizes the main points effectively.'"
      ]
     },
     "execution_count": 10,
     "metadata": {},
     "output_type": "execute_result"
    }
   ],
   "source": [
    "output.feedback"
   ]
  },
  {
   "cell_type": "code",
   "execution_count": 11,
   "id": "eece3497",
   "metadata": {},
   "outputs": [],
   "source": [
    "class UPSCState(TypedDict):\n",
    "\n",
    "    essay: str\n",
    "    language_feedback: str\n",
    "    analysis_feedback: str\n",
    "    clarity_feedback: str\n",
    "    overall_feedback: str\n",
    "    individual_score: Annotated[list[int], operator.add]\n",
    "    avg_score: float"
   ]
  }
 ],
 "metadata": {
  "kernelspec": {
   "display_name": "lgenv",
   "language": "python",
   "name": "python3"
  },
  "language_info": {
   "codemirror_mode": {
    "name": "ipython",
    "version": 3
   },
   "file_extension": ".py",
   "mimetype": "text/x-python",
   "name": "python",
   "nbconvert_exporter": "python",
   "pygments_lexer": "ipython3",
   "version": "3.10.11"
  }
 },
 "nbformat": 4,
 "nbformat_minor": 5
}
