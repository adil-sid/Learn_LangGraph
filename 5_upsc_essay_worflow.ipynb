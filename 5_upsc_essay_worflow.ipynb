{
 "cells": [
  {
   "cell_type": "code",
   "execution_count": 60,
   "id": "fb68fe28",
   "metadata": {},
   "outputs": [],
   "source": [
    "from langgraph.graph import StateGraph, START, END\n",
    "from langchain_google_genai import ChatGoogleGenerativeAI\n",
    "from dotenv import load_dotenv\n",
    "from pydantic import BaseModel, Field\n",
    "from typing import TypedDict, Annotated\n",
    "import os\n",
    "import operator"
   ]
  },
  {
   "cell_type": "code",
   "execution_count": 61,
   "id": "fde883ba",
   "metadata": {},
   "outputs": [],
   "source": [
    "load_dotenv()\n",
    "\n",
    "model = ChatGoogleGenerativeAI(model = 'gemini-2.0-flash')"
   ]
  },
  {
   "cell_type": "code",
   "execution_count": 62,
   "id": "a7fc6982",
   "metadata": {},
   "outputs": [],
   "source": [
    "class EvaluationSchema(BaseModel):\n",
    "\n",
    "    feedback: str = Field(description = 'Detailed feedback for the essay')\n",
    "    score: int = Field(description = 'Score out of 10', ge=0, le=10)"
   ]
  },
  {
   "cell_type": "code",
   "execution_count": 63,
   "id": "4b280c4c",
   "metadata": {},
   "outputs": [],
   "source": [
    "structured_model = model.with_structured_output(EvaluationSchema)"
   ]
  },
  {
   "cell_type": "code",
   "execution_count": 64,
   "id": "a1eb087d",
   "metadata": {},
   "outputs": [],
   "source": [
    "essay = \"\"\"\n",
    "    Artificial Intelligence in India: A Transformative Force\n",
    "Introduction\n",
    "Artificial Intelligence (AI) is no longer a futuristic concept—it's a present-day reality reshaping industries, governance, and daily life. In India, a country of over 1.4 billion people with diverse socio-economic challenges and immense digital potential, AI is emerging as a transformative force across sectors.\n",
    "Growth and Adoption\n",
    "India has witnessed a rapid surge in AI adoption, driven by both government initiatives and private sector innovation. From smart cities to digital agriculture, AI is being integrated into national development strategies. The National Strategy for Artificial Intelligence, launched by NITI Aayog, positions India as a hub for “AI for All,” emphasizing inclusive growth.\n",
    "Key sectors embracing AI include:\n",
    "- Healthcare: AI-powered diagnostics, predictive analytics, and telemedicine are improving access and outcomes, especially in rural areas.\n",
    "- Agriculture: AI models help farmers with crop prediction, pest control, and irrigation management, enhancing productivity.\n",
    "- Education: Personalized learning platforms and AI tutors are bridging gaps in access and quality.\n",
    "- Finance: Fraud detection, credit scoring, and robo-advisors are revolutionizing banking and fintech.\n",
    "- Governance: AI is being used for traffic management, surveillance, and citizen service delivery.\n",
    "Startups and Innovation\n",
    "India's startup ecosystem is thriving with over 1,500 AI startups as of 2025. Cities like Bengaluru, Hyderabad, and Pune are becoming AI innovation hubs. Companies are developing solutions tailored to Indian contexts—such as multilingual NLP models, low-resource machine learning, and affordable AI hardware.\n",
    "Challenges\n",
    "Despite the momentum, India faces several hurdles:\n",
    "- Data Quality and Access: Many AI models require large, clean datasets, which are often unavailable or fragmented in India.\n",
    "- Skilled Workforce: There's a growing demand for AI talent, but a shortage of skilled professionals in deep learning, data science, and AI ethics.\n",
    "- Infrastructure Gaps: Limited access to high-performance computing and cloud infrastructure in Tier 2 and Tier 3 cities slows down innovation.\n",
    "- Ethical and Regulatory Concerns: Issues around bias, privacy, and surveillance require robust frameworks and public discourse.\n",
    "Government Initiatives\n",
    "The Indian government is actively promoting AI through:\n",
    "- IndiaAI Mission: A national program to support AI research, startups, and skilling.\n",
    "- Digital India: Integrating AI into e-governance and public service delivery.\n",
    "- AI Centers of Excellence: Established in collaboration with academia and industry to foster cutting-edge research.\n",
    "Future Outlook\n",
    "India's AI journey is poised for exponential growth. With its vast population, rich linguistic diversity, and unique challenges, India offers fertile ground for developing inclusive and ethical AI solutions. If harnessed responsibly, AI can be a powerful tool for social equity, economic growth, and global leadership.\n",
    "Conclusion\n",
    "Artificial Intelligence in India is not just about technology—it's about transformation. As the country balances innovation with inclusion, the future of AI in India will be defined by how well it serves its people, empowers its youth, and solves its most pressing problems.\n",
    "\n",
    "\"\"\""
   ]
  },
  {
   "cell_type": "code",
   "execution_count": 65,
   "id": "f1c5be96",
   "metadata": {},
   "outputs": [],
   "source": [
    "prompt = f\"Evaluate the language quality of the following essay and provide a feedback and assign a score out of 10 \\n {essay}\"\n",
    "output = structured_model.invoke(prompt)"
   ]
  },
  {
   "cell_type": "code",
   "execution_count": 66,
   "id": "5f2cfeae",
   "metadata": {},
   "outputs": [
    {
     "data": {
      "text/plain": [
       "7"
      ]
     },
     "execution_count": 66,
     "metadata": {},
     "output_type": "execute_result"
    }
   ],
   "source": [
    "output.score"
   ]
  },
  {
   "cell_type": "code",
   "execution_count": 67,
   "id": "b5e3bd8a",
   "metadata": {},
   "outputs": [
    {
     "data": {
      "text/plain": [
       "'The essay provides a good overview of AI in India, covering growth, challenges, and government initiatives. The language is clear and accessible, making it easy to understand for a broad audience. However, the writing could be more engaging with stronger transitions between paragraphs and more specific examples to illustrate the points. The conclusion is a bit generic; it could be more impactful by summarizing the key arguments or offering a more forward-looking perspective.'"
      ]
     },
     "execution_count": 67,
     "metadata": {},
     "output_type": "execute_result"
    }
   ],
   "source": [
    "output.feedback"
   ]
  },
  {
   "cell_type": "code",
   "execution_count": 68,
   "id": "eece3497",
   "metadata": {},
   "outputs": [],
   "source": [
    "class UPSCState(TypedDict):\n",
    "\n",
    "    essay: str\n",
    "    language_feedback: str\n",
    "    analysis_feedback: str\n",
    "    clarity_feedback: str\n",
    "    overall_feedback: str\n",
    "    individual_scores: Annotated[list[int], operator.add]\n",
    "    avg_score: float"
   ]
  },
  {
   "cell_type": "code",
   "execution_count": 69,
   "id": "1389cccb",
   "metadata": {},
   "outputs": [],
   "source": [
    "def evaluate_language(state: UPSCState):\n",
    "\n",
    "    prompt = f\"Evaluate the language quality of the following essay and provide a feedback and assign a score out of 10 \\n {state['essay']}\"\n",
    "    output = structured_model.invoke(prompt)\n",
    "\n",
    "    return {'language_feedback': output.feedback, 'individual_scores': [output.score]}"
   ]
  },
  {
   "cell_type": "code",
   "execution_count": 70,
   "id": "fa871565",
   "metadata": {},
   "outputs": [],
   "source": [
    "def evaluate_analysis(state: UPSCState):\n",
    "\n",
    "    prompt = f\"Evaluate the language depth of analysis of the following essay and provide a feedback and assign a score out of 10 \\n {state['essay']}\"\n",
    "    output = structured_model.invoke(prompt)\n",
    "\n",
    "    return {'analysis_feedback': output.feedback, 'individual_scores': [output.score]}"
   ]
  },
  {
   "cell_type": "code",
   "execution_count": 71,
   "id": "28920d45",
   "metadata": {},
   "outputs": [],
   "source": [
    "def evaluate_thought(state: UPSCState):\n",
    "\n",
    "    prompt = f\"Evaluate the language clarity of thought of the following essay and provide a feedback and assign a score out of 10 \\n {state['essay']}\"\n",
    "    output = structured_model.invoke(prompt)\n",
    "\n",
    "    return {'clarity_feedback': output.feedback, 'individual_scores': [output.score]}"
   ]
  },
  {
   "cell_type": "code",
   "execution_count": 72,
   "id": "83b61c52",
   "metadata": {},
   "outputs": [],
   "source": [
    "def final_evaluation(state: UPSCState):\n",
    "\n",
    "    prompt = f\"Based on the following feedbacks create a summarized feedback \\n language feedback - {state['language_feedback']} \\n depth of analysis feedback - {state['analysis_feedback']}  \\n clarity of thought feedback - {state['clarity_feedback']}.\"\n",
    "    overall_feedback = model.invoke(prompt).content\n",
    "\n",
    "    #avg \n",
    "    avg_score = sum(state['individual_scores'])/len(state['individual_scores'])\n",
    "\n",
    "    return {'overall_feedback': overall_feedback, 'avg_score': round(avg_score,4)}"
   ]
  },
  {
   "cell_type": "code",
   "execution_count": 73,
   "id": "c28a4c27",
   "metadata": {},
   "outputs": [],
   "source": [
    "graph = StateGraph(UPSCState)\n",
    "\n",
    "#nodes\n",
    "graph.add_node('evaluate_language', evaluate_language)\n",
    "graph.add_node('evaluate_analysis', evaluate_analysis)\n",
    "graph.add_node('evaluate_thought', evaluate_thought)\n",
    "graph.add_node('final_evaluation', final_evaluation)\n",
    "\n",
    "#edges\n",
    "graph.add_edge(START, 'evaluate_language')\n",
    "graph.add_edge('evaluate_language', 'final_evaluation')\n",
    "\n",
    "graph.add_edge(START, 'evaluate_analysis')\n",
    "graph.add_edge('evaluate_analysis', 'final_evaluation')\n",
    "\n",
    "graph.add_edge(START, 'evaluate_thought')\n",
    "graph.add_edge('evaluate_thought', 'final_evaluation')\n",
    "\n",
    "graph.add_edge('final_evaluation', END)\n",
    "\n",
    "workflow = graph.compile()\n"
   ]
  },
  {
   "cell_type": "code",
   "execution_count": 74,
   "id": "8f369025",
   "metadata": {},
   "outputs": [
    {
     "data": {
      "image/png": "[encoded data removed]",
      "text/plain": [
       "<langgraph.graph.state.CompiledStateGraph object at 0x0000021CBC2EC790>"
      ]
     },
     "execution_count": 74,
     "metadata": {},
     "output_type": "execute_result"
    }
   ],
   "source": [
    "workflow"
   ]
  },
  {
   "cell_type": "code",
   "execution_count": 75,
   "id": "1b21dd7c",
   "metadata": {},
   "outputs": [
    {
     "data": {
      "text/plain": [
       "{'essay': \"\\n    Artificial Intelligence in India: A Transformative Force\\nIntroduction\\nArtificial Intelligence (AI) is no longer a futuristic concept—it's a present-day reality reshaping industries, governance, and daily life. In India, a country of over 1.4 billion people with diverse socio-economic challenges and immense digital potential, AI is emerging as a transformative force across sectors.\\nGrowth and Adoption\\nIndia has witnessed a rapid surge in AI adoption, driven by both government initiatives and private sector innovation. From smart cities to digital agriculture, AI is being integrated into national development strategies. The National Strategy for Artificial Intelligence, launched by NITI Aayog, positions India as a hub for “AI for All,” emphasizing inclusive growth.\\nKey sectors embracing AI include:\\n- Healthcare: AI-powered diagnostics, predictive analytics, and telemedicine are improving access and outcomes, especially in rural areas.\\n- Agriculture: AI models help farmers with crop prediction, pest control, and irrigation management, enhancing productivity.\\n- Education: Personalized learning platforms and AI tutors are bridging gaps in access and quality.\\n- Finance: Fraud detection, credit scoring, and robo-advisors are revolutionizing banking and fintech.\\n- Governance: AI is being used for traffic management, surveillance, and citizen service delivery.\\nStartups and Innovation\\nIndia's startup ecosystem is thriving with over 1,500 AI startups as of 2025. Cities like Bengaluru, Hyderabad, and Pune are becoming AI innovation hubs. Companies are developing solutions tailored to Indian contexts—such as multilingual NLP models, low-resource machine learning, and affordable AI hardware.\\nChallenges\\nDespite the momentum, India faces several hurdles:\\n- Data Quality and Access: Many AI models require large, clean datasets, which are often unavailable or fragmented in India.\\n- Skilled Workforce: There's a growing demand for AI talent, but a shortage of skilled professionals in deep learning, data science, and AI ethics.\\n- Infrastructure Gaps: Limited access to high-performance computing and cloud infrastructure in Tier 2 and Tier 3 cities slows down innovation.\\n- Ethical and Regulatory Concerns: Issues around bias, privacy, and surveillance require robust frameworks and public discourse.\\nGovernment Initiatives\\nThe Indian government is actively promoting AI through:\\n- IndiaAI Mission: A national program to support AI research, startups, and skilling.\\n- Digital India: Integrating AI into e-governance and public service delivery.\\n- AI Centers of Excellence: Established in collaboration with academia and industry to foster cutting-edge research.\\nFuture Outlook\\nIndia's AI journey is poised for exponential growth. With its vast population, rich linguistic diversity, and unique challenges, India offers fertile ground for developing inclusive and ethical AI solutions. If harnessed responsibly, AI can be a powerful tool for social equity, economic growth, and global leadership.\\nConclusion\\nArtificial Intelligence in India is not just about technology—it's about transformation. As the country balances innovation with inclusion, the future of AI in India will be defined by how well it serves its people, empowers its youth, and solves its most pressing problems.\\n\\n\",\n",
       " 'language_feedback': 'The essay provides a good overview of the current state and future potential of AI in India. It covers key sectors, challenges, and government initiatives effectively. However, the language could be more engaging and the writing style more varied. Some sentences are a bit repetitive, and the essay could benefit from more specific examples and data to support its claims. Adding a few anecdotes or case studies would also enhance its impact.',\n",
       " 'analysis_feedback': 'The essay provides a good overview of AI in India, covering growth, adoption, key sectors, startups, challenges, government initiatives, and future outlook. However, the analysis lacks depth. For example, when discussing challenges like data quality and access, it could benefit from specific examples or statistics to illustrate the problem. Similarly, the section on ethical and regulatory concerns could be strengthened by discussing specific ethical dilemmas or regulatory approaches being considered. To improve the language depth of analysis, the essay should move beyond descriptive statements and delve into the underlying causes, consequences, and potential solutions related to each topic.',\n",
       " 'clarity_feedback': \"The essay provides a good overview of AI in India, covering growth, key sectors, challenges, and government initiatives. The language is clear and accessible, making it easy to understand the main points. The thought process is logical, presenting a balanced view of AI's potential and the hurdles India faces. However, the essay could benefit from more specific examples and deeper analysis of the challenges and ethical considerations. Also, the writing style is a bit generic; adding more unique insights or perspectives would enhance the essay's impact.\",\n",
       " 'overall_feedback': 'The essay provides a good overview of AI in India, effectively covering key sectors, challenges, and government initiatives. However, the analysis lacks depth and could be strengthened with specific examples, data, statistics, and case studies to support claims and illustrate challenges. While the language is clear, it could be more engaging and varied, avoiding repetition. Furthermore, the essay would benefit from moving beyond descriptive statements to delve into the underlying causes, consequences, and potential solutions, and incorporating unique insights or perspectives to enhance its impact.',\n",
       " 'individual_scores': [7, 7, 7],\n",
       " 'avg_score': 7.0}"
      ]
     },
     "execution_count": 75,
     "metadata": {},
     "output_type": "execute_result"
    }
   ],
   "source": [
    "initial_state = {\n",
    "    'essay': essay\n",
    "}\n",
    "\n",
    "workflow.invoke(initial_state)"
   ]
  },
  {
   "cell_type": "code",
   "execution_count": 76,
   "id": "3832f6f3",
   "metadata": {},
   "outputs": [],
   "source": [
    "essay2 = \"\"\"AI is big thing in India now. Many peoples use it for do work fast and smart. Before, peoples do thing slow and hard, but now AI come and make easy. Government also say AI is good and want to use it more.\n",
    "In hospital, AI help doctor to look inside body and say what wrong. Farmer also use AI for grow food better. It tell when rain come or when bug eat plant. Student use AI for learn thing, like math and science, and AI talk like teacher but not real teacher.\n",
    "Many company make AI stuff. Some in Bangalore, some in Mumbai, some in other place. They make robot brain and computer talk. But some peoples no have internet or phone, so they no can use AI good. Also, some AI say wrong thing or confuse people, so it not always perfect.\n",
    "Government do plan like “Digital India” and “AI for All” which mean AI for every people, not just rich one. They make rule so AI no do bad thing. But still, some peoples worry AI take job and make problem.\n",
    "In future, AI maybe do everything. Cook food, drive car, even write essay like this one. But peoples must be careful and use AI with brain, not just trust everything.\n",
    "\"\"\""
   ]
  },
  {
   "cell_type": "code",
   "execution_count": 77,
   "id": "120587e3",
   "metadata": {},
   "outputs": [
    {
     "data": {
      "text/plain": [
       "{'essay': 'AI is big thing in India now. Many peoples use it for do work fast and smart. Before, peoples do thing slow and hard, but now AI come and make easy. Government also say AI is good and want to use it more.\\nIn hospital, AI help doctor to look inside body and say what wrong. Farmer also use AI for grow food better. It tell when rain come or when bug eat plant. Student use AI for learn thing, like math and science, and AI talk like teacher but not real teacher.\\nMany company make AI stuff. Some in Bangalore, some in Mumbai, some in other place. They make robot brain and computer talk. But some peoples no have internet or phone, so they no can use AI good. Also, some AI say wrong thing or confuse people, so it not always perfect.\\nGovernment do plan like “Digital India” and “AI for All” which mean AI for every people, not just rich one. They make rule so AI no do bad thing. But still, some peoples worry AI take job and make problem.\\nIn future, AI maybe do everything. Cook food, drive car, even write essay like this one. But peoples must be careful and use AI with brain, not just trust everything.\\n',\n",
       " 'language_feedback': \"The essay has several areas for improvement. The language is simplistic and repetitive, with frequent use of basic sentence structures. There are grammatical errors, such as incorrect verb conjugations ('peoples use' instead of 'people use') and awkward phrasing ('no have internet' instead of 'don't have internet'). The vocabulary is limited, and the writing lacks sophistication. The essay would benefit from more varied sentence structures, improved grammar, and a wider range of vocabulary to enhance clarity and fluency. Additionally, the essay could be more organized with clearer transitions between ideas.\",\n",
       " 'analysis_feedback': \"The essay demonstrates a basic understanding of AI's applications in India but lacks depth in its analysis. The language is simple, and the arguments are not well-supported with evidence or detailed explanations. The essay could benefit from a more nuanced discussion of the challenges and opportunities presented by AI, as well as a more sophisticated vocabulary and sentence structure.\",\n",
       " 'clarity_feedback': \"The essay has simple language and structure, which makes it easy to understand. However, it could benefit from more precise word choices and varied sentence structures to enhance clarity. The organization of thoughts is logical, but the transitions between ideas could be smoother. Providing specific examples and avoiding generalizations would also improve the essay's depth and clarity.\",\n",
       " 'overall_feedback': 'The essay demonstrates a basic understanding but suffers from several weaknesses. The **language is simplistic, repetitive, and contains grammatical errors.** Vocabulary is limited, sentence structures are basic, and phrasing is often awkward. Consequently, **clarity is hampered by imprecise word choices and a lack of smooth transitions.** Furthermore, the **analysis lacks depth,** arguments are not well-supported, and the discussion would benefit from more nuance and specific examples. Overall, the essay needs significant improvement in language proficiency, analytical depth, and overall clarity.',\n",
       " 'individual_scores': [5, 5, 6],\n",
       " 'avg_score': 5.3333}"
      ]
     },
     "execution_count": 77,
     "metadata": {},
     "output_type": "execute_result"
    }
   ],
   "source": [
    "initial_state_essay2 = {\n",
    "    'essay': essay2\n",
    "}\n",
    "\n",
    "\n",
    "workflow.invoke(initial_state_essay2)\n"
   ]
  }
 ],
 "metadata": {
  "kernelspec": {
   "display_name": "lgenv",
   "language": "python",
   "name": "python3"
  },
  "language_info": {
   "codemirror_mode": {
    "name": "ipython",
    "version": 3
   },
   "file_extension": ".py",
   "mimetype": "text/x-python",
   "name": "python",
   "nbconvert_exporter": "python",
   "pygments_lexer": "ipython3",
   "version": "3.10.11"
  }
 },
 "nbformat": 4,
 "nbformat_minor": 5
}
