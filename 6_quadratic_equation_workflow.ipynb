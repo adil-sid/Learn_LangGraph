{
 "cells": [
  {
   "cell_type": "code",
   "execution_count": 78,
   "id": "e8952028",
   "metadata": {},
   "outputs": [],
   "source": [
    "from langgraph.graph import StateGraph, START, END\n",
    "from typing import TypedDict, Literal"
   ]
  },
  {
   "cell_type": "code",
   "execution_count": 79,
   "id": "8c8ae3be",
   "metadata": {},
   "outputs": [],
   "source": [
    "class QuadEqState(TypedDict):\n",
    "\n",
    "    a: int\n",
    "    b: int\n",
    "    c: int\n",
    "\n",
    "    equation: str\n",
    "    discriminant: float\n",
    "    result: str"
   ]
  },
  {
   "cell_type": "code",
   "execution_count": 80,
   "id": "ff9dc425",
   "metadata": {},
   "outputs": [],
   "source": [
    "def show_equation(state: QuadEqState):\n",
    "\n",
    "    equation = \"\"\n",
    "    equation += f'{state[\"a\"]}x2'\n",
    "    if state['b'] > 0:\n",
    "        equation += f' + {state[\"b\"]}x'\n",
    "    else:\n",
    "        equation += f' - {abs(state[\"b\"])}x'    \n",
    "    if state['c'] > 0:\n",
    "        equation += f' + {state[\"c\"]}'\n",
    "    else:\n",
    "        equation += f' - {abs(state[\"c\"])}'\n",
    "\n",
    "    return {'equation': equation}"
   ]
  },
  {
   "cell_type": "code",
   "execution_count": 81,
   "id": "e0430e26",
   "metadata": {},
   "outputs": [],
   "source": [
    "def calc_discriminant(state: QuadEqState):\n",
    "\n",
    "    discriminant = state['b']**2 - 4*state['a']*state['c']\n",
    "\n",
    "    return {'discriminant': discriminant}"
   ]
  },
  {
   "cell_type": "code",
   "execution_count": 82,
   "id": "c30da8aa",
   "metadata": {},
   "outputs": [],
   "source": [
    "def real_roots(state: QuadEqState):\n",
    "\n",
    "    root1 = (-state['b'] + state['discriminant']**(0.5))/(2*state['a'])\n",
    "    root2 = (-state['b'] - state['discriminant']**(0.5))/(2*state['a'])\n",
    "\n",
    "    result = f'Roots of the quad eqations are {round(root1,2)} and {round(root2,2)}.'\n",
    "\n",
    "    return {'result': result}\n",
    "\n"
   ]
  },
  {
   "cell_type": "code",
   "execution_count": 83,
   "id": "88be7fd6",
   "metadata": {},
   "outputs": [],
   "source": [
    "def repeated_roots(state: QuadEqState):\n",
    "\n",
    "    root = (-state['b'])/(2*state['a'])\n",
    "\n",
    "    result = f'The repeated roots of the quad eqations is {round(root,2)}.'\n",
    "\n",
    "    return {'result': result}"
   ]
  },
  {
   "cell_type": "code",
   "execution_count": 84,
   "id": "198ccd14",
   "metadata": {},
   "outputs": [],
   "source": [
    "def no_real_roots(state: QuadEqState):\n",
    "\n",
    "    result = 'There are not real roots.'\n",
    "\n",
    "    return {'result': result}"
   ]
  },
  {
   "cell_type": "code",
   "execution_count": 85,
   "id": "5b9dd80e",
   "metadata": {},
   "outputs": [],
   "source": [
    "def check_condition(state: QuadEqState) -> Literal[\"real_roots\", \"repeated_roots\",\"no_real_roots\"]:\n",
    "    \n",
    "    if state['discriminant'] > 0:\n",
    "        return 'real_roots' \n",
    "    elif state['discriminant'] == 0:\n",
    "        return 'repeated_roots'\n",
    "    else:\n",
    "        return 'no_real_roots'"
   ]
  },
  {
   "cell_type": "code",
   "execution_count": 86,
   "id": "ce48f391",
   "metadata": {},
   "outputs": [],
   "source": [
    "graph = StateGraph(QuadEqState)\n",
    "\n",
    "#nodes\n",
    "graph.add_node('show_equation', show_equation)\n",
    "graph.add_node('calculate_discriminant', calc_discriminant)\n",
    "graph.add_node('real_roots', real_roots)\n",
    "graph.add_node('repeated_roots', repeated_roots)\n",
    "graph.add_node('no_real_roots', no_real_roots)\n",
    "\n",
    "#edges\n",
    "graph.add_edge(START, 'show_equation')\n",
    "graph.add_edge('show_equation', 'calculate_discriminant')\n",
    "\n",
    "graph.add_conditional_edges('calculate_discriminant', check_condition)\n",
    "\n",
    "graph.add_edge('real_roots', END)\n",
    "graph.add_edge('repeated_roots', END)\n",
    "graph.add_edge('no_real_roots', END)\n",
    "\n",
    "workflow = graph.compile()"
   ]
  },
  {
   "cell_type": "code",
   "execution_count": 87,
   "id": "26e7f9af",
   "metadata": {},
   "outputs": [
    {
     "data": {
      "image/png": "[encoded data removed]",
      "text/plain": [
       "<langgraph.graph.state.CompiledStateGraph object at 0x000002118E3C7B80>"
      ]
     },
     "execution_count": 87,
     "metadata": {},
     "output_type": "execute_result"
    }
   ],
   "source": [
    "graph.compile()"
   ]
  },
  {
   "cell_type": "code",
   "execution_count": 89,
   "id": "aeb604d2",
   "metadata": {},
   "outputs": [
    {
     "data": {
      "text/plain": [
       "{'a': 4,\n",
       " 'b': 10,\n",
       " 'c': 2,\n",
       " 'equation': '4x2 + 10x + 2',\n",
       " 'discriminant': 68,\n",
       " 'result': 'Roots of the quad eqations are -0.22 and -2.28.'}"
      ]
     },
     "execution_count": 89,
     "metadata": {},
     "output_type": "execute_result"
    }
   ],
   "source": [
    "initial_state = {'a': 4, 'b': 10, 'c': 2}\n",
    "\n",
    "workflow.invoke(initial_state)"
   ]
  }
 ],
 "metadata": {
  "kernelspec": {
   "display_name": "lgenv",
   "language": "python",
   "name": "python3"
  },
  "language_info": {
   "codemirror_mode": {
    "name": "ipython",
    "version": 3
   },
   "file_extension": ".py",
   "mimetype": "text/x-python",
   "name": "python",
   "nbconvert_exporter": "python",
   "pygments_lexer": "ipython3",
   "version": "3.10.11"
  }
 },
 "nbformat": 4,
 "nbformat_minor": 5
}
